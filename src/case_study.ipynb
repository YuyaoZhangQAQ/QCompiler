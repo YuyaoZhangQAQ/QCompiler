{
 "cells": [
  {
   "cell_type": "code",
   "execution_count": 1,
   "metadata": {},
   "outputs": [],
   "source": [
    "from openai import OpenAI\n",
    "\n",
    "client = OpenAI(\n",
    "    base_url = \"http://localhost:12111/v1\",\n",
    "    api_key = \"empty\"\n",
    ")"
   ]
  },
  {
   "cell_type": "code",
   "execution_count": 2,
   "metadata": {},
   "outputs": [
    {
     "name": "stderr",
     "output_type": "stream",
     "text": [
      "/home/zyy/anaconda3/envs/zyy/lib/python3.11/site-packages/tqdm/auto.py:21: TqdmWarning: IProgress not found. Please update jupyter and ipywidgets. See https://ipywidgets.readthedocs.io/en/stable/user_install.html\n",
      "  from .autonotebook import tqdm as notebook_tqdm\n"
     ]
    }
   ],
   "source": [
    "from components import Translator, Parser"
   ]
  },
  {
   "cell_type": "code",
   "execution_count": 3,
   "metadata": {},
   "outputs": [],
   "source": [
    "translator = Translator(\n",
    "    client = client,\n",
    "    model_name = \"/home/zyy/LLaMA-Factory-pre/models/QCompiler-Llama3.2-3B\"\n",
    ")"
   ]
  },
  {
   "cell_type": "code",
   "execution_count": 25,
   "metadata": {},
   "outputs": [],
   "source": [
    "expression = await translator.translate(\n",
    "    query = \"What are the best papers of ACL from 2020-2024\"\n",
    ")"
   ]
  },
  {
   "cell_type": "code",
   "execution_count": 26,
   "metadata": {},
   "outputs": [
    {
     "data": {
      "text/plain": [
       "'What are the top papers of ACL in 2020 + What are the top papers of ACL in 2021 + What are the top papers of ACL in 2022 + What are the top papers of ACL in 2023 + What are the top papers of ACL in 2024'"
      ]
     },
     "execution_count": 26,
     "metadata": {},
     "output_type": "execute_result"
    }
   ],
   "source": [
    "expression"
   ]
  },
  {
   "cell_type": "code",
   "execution_count": 27,
   "metadata": {},
   "outputs": [],
   "source": [
    "parser = Parser()\n",
    "\n",
    "ast = parser.parse_complex_query(expression)"
   ]
  },
  {
   "cell_type": "code",
   "execution_count": 30,
   "metadata": {},
   "outputs": [
    {
     "name": "stdout",
     "output_type": "stream",
     "text": [
      "A + B + C + D + E\n"
     ]
    }
   ],
   "source": [
    "letter_expression, letter_mapping = parser.get_letter_expression(ast)\n",
    "print(letter_expression)\n"
   ]
  },
  {
   "cell_type": "code",
   "execution_count": 31,
   "metadata": {},
   "outputs": [
    {
     "name": "stdout",
     "output_type": "stream",
     "text": [
      "{'A': 'What are the top papers of ACL in 2020', 'B': 'What are the top papers of ACL in 2021', 'C': 'What are the top papers of ACL in 2022', 'D': 'What are the top papers of ACL in 2023', 'E': 'What are the top papers of ACL in 2024'}\n"
     ]
    }
   ],
   "source": [
    "print(letter_mapping)"
   ]
  },
  {
   "cell_type": "code",
   "execution_count": 2,
   "metadata": {},
   "outputs": [
    {
     "ename": "NameError",
     "evalue": "name 'retriever_config' is not defined",
     "output_type": "error",
     "traceback": [
      "\u001b[0;31m---------------------------------------------------------------------------\u001b[0m",
      "\u001b[0;31mNameError\u001b[0m                                 Traceback (most recent call last)",
      "Cell \u001b[0;32mIn[2], line 10\u001b[0m\n\u001b[1;32m      3\u001b[0m \u001b[38;5;28;01mfrom\u001b[39;00m \u001b[38;5;21;01mopenai\u001b[39;00m \u001b[38;5;28;01mimport\u001b[39;00m OpenAI\n\u001b[1;32m      5\u001b[0m client \u001b[38;5;241m=\u001b[39m OpenAI(\n\u001b[1;32m      6\u001b[0m     base_url \u001b[38;5;241m=\u001b[39m \u001b[38;5;124m\"\u001b[39m\u001b[38;5;124m...\u001b[39m\u001b[38;5;124m\"\u001b[39m,\n\u001b[1;32m      7\u001b[0m     api_key \u001b[38;5;241m=\u001b[39m \u001b[38;5;124m\"\u001b[39m\u001b[38;5;124m...\u001b[39m\u001b[38;5;124m\"\u001b[39m\n\u001b[1;32m      8\u001b[0m )\n\u001b[0;32m---> 10\u001b[0m retriever \u001b[38;5;241m=\u001b[39m get_retriever(\u001b[43mretriever_config\u001b[49m)\n\u001b[1;32m     12\u001b[0m processor \u001b[38;5;241m=\u001b[39m RecursiveDescentProcessor(\n\u001b[1;32m     13\u001b[0m     retriever \u001b[38;5;241m=\u001b[39m retriever,\n\u001b[1;32m     14\u001b[0m     client \u001b[38;5;241m=\u001b[39m client,\n\u001b[1;32m     15\u001b[0m     model_name \u001b[38;5;241m=\u001b[39m \u001b[38;5;124m\"\u001b[39m\u001b[38;5;124mQwen/Qwen2.5-7B-Instruct\u001b[39m\u001b[38;5;124m\"\u001b[39m\n\u001b[1;32m     16\u001b[0m )\n",
      "\u001b[0;31mNameError\u001b[0m: name 'retriever_config' is not defined"
     ]
    }
   ],
   "source": [
    "from components import RecursiveDescentProcessor\n",
    "from flashrag.utils import get_retriever\n",
    "from openai import OpenAI\n",
    "\n",
    "client = OpenAI(\n",
    "    base_url = \"...\",\n",
    "    api_key = \"...\"\n",
    ")\n",
    "\n",
    "retriever = get_retriever(retriever_config)\n",
    "\n",
    "processor = RecursiveDescentProcessor(\n",
    "    retriever = retriever,\n",
    "    client = client,\n",
    "    model_name = \"Qwen/Qwen2.5-7B-Instruct\"\n",
    ")"
   ]
  }
 ],
 "metadata": {
  "kernelspec": {
   "display_name": "zyy",
   "language": "python",
   "name": "python3"
  },
  "language_info": {
   "codemirror_mode": {
    "name": "ipython",
    "version": 3
   },
   "file_extension": ".py",
   "mimetype": "text/x-python",
   "name": "python",
   "nbconvert_exporter": "python",
   "pygments_lexer": "ipython3",
   "version": "3.11.9"
  }
 },
 "nbformat": 4,
 "nbformat_minor": 2
}
